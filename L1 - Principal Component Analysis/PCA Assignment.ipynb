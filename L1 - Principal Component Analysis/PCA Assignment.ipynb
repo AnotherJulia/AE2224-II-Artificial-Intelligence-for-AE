{
 "cells": [
  {
   "cell_type": "code",
   "execution_count": 15,
   "id": "dc632ac8",
   "metadata": {},
   "outputs": [
    {
     "name": "stdout",
     "output_type": "stream",
     "text": [
      "Original data\n",
      "[[9 9]\n",
      " [1 2]\n",
      " [0 3]\n",
      " [2 6]\n",
      " [4 4]\n",
      " [7 1]\n",
      " [4 3]\n",
      " [6 1]\n",
      " [5 1]\n",
      " [1 7]]\n",
      "Standardized data\n",
      "[[-0.62230759  1.06681302]\n",
      " [ 1.1557141   1.36314996]\n",
      " [ 1.1557141   0.47413912]\n",
      " [-0.62230759  1.36314996]\n",
      " [-1.21498149 -0.71120868]\n",
      " [ 1.1557141  -0.41487173]\n",
      " [ 0.5630402  -0.71120868]\n",
      " [ 0.85937715  0.17780217]\n",
      " [-1.21498149 -1.30388258]\n",
      " [-1.21498149 -1.30388258]]\n"
     ]
    }
   ],
   "source": [
    "import numpy as np\n",
    "import matplotlib.pyplot as plt\n",
    "\n",
    "X = np.random.randint(0,10,size=(10,2))\n",
    "print(\"Original data\")\n",
    "print(data)\n",
    "\n",
    "#print(\"Original data\")\n",
    "#plt.scatter(X[:,0], X[:,1])\n",
    "\n",
    "X_stand = (X-np.mean(X, axis=0))/np.std(X)\n",
    "print(\"Standardized data\")\n",
    "print(X_stand)"
   ]
  },
  {
   "cell_type": "code",
   "execution_count": 16,
   "id": "dd9994c4",
   "metadata": {},
   "outputs": [],
   "source": [
    "def pca_scratch(X_stand, k):\n",
    "    \n",
    "    # Find the covariance matrix\n",
    "    cov_matrix = np.cov(X_stand, rowvar=False)\n",
    "    # Find the eigenvalues and eigenvectors of the covariance matrix\n",
    "    eigenvalues, eigenvectors = np.linalg.eigh(cov_matrix)\n",
    "    # Find the right \"order\" of the eigenvalues and eigenvectors (largest >> smallest)\n",
    "    sortindex = np.argsort(eigenvalues)[::-1]\n",
    "    # Apply the index to the eigenvalues and the eigenvectors and take the first \"k\" components\n",
    "    sorted_eigenvalues = eigenvalues[sortindex]\n",
    "    sorted_eigenvectors = eigenvectors[:, sortindex]\n",
    "    eigenvalues_set = sorted_eigenvalues[:k]\n",
    "    eigenvectors_set = sorted_eigenvectors[:, :k]\n",
    "\n",
    "    # Find the variance of the selected\n",
    "    eigenvalues_sum = np.sum(eigenvalues_set)\n",
    "    eig_length = np.linalg.norm(eigenvalues_set)\n",
    "    var = eigenvalues_sum/eig_length\n",
    "    # Find the transformed dataset\n",
    "    X_pca = np.dot(eigenvectors_set.transpose(), X_stand.transpose()).transpose()\n",
    "\n",
    "    return X_pca, var\n",
    "    "
   ]
  },
  {
   "cell_type": "code",
   "execution_count": 21,
   "id": "9a4be9ee",
   "metadata": {},
   "outputs": [
    {
     "data": {
      "text/plain": [
       "<matplotlib.collections.PathCollection at 0x7fa2d898ebb0>"
      ]
     },
     "execution_count": 21,
     "metadata": {},
     "output_type": "execute_result"
    },
    {
     "data": {
      "image/png": "[encoded data removed]",
      "text/plain": [
       "<Figure size 432x288 with 1 Axes>"
      ]
     },
     "metadata": {
      "needs_background": "light"
     },
     "output_type": "display_data"
    }
   ],
   "source": [
    "X_pca, var = pca_scratch(X_stand, 1)\n",
    "\n",
    "plt.scatter(X_stand[:,0], X_stand[:,1])\n",
    "plt.scatter(X_pca[:,0], np.zeros(10))"
   ]
  },
  {
   "cell_type": "code",
   "execution_count": null,
   "id": "fed31d16",
   "metadata": {},
   "outputs": [],
   "source": []
  }
 ],
 "metadata": {
  "kernelspec": {
   "display_name": "Python 3 (ipykernel)",
   "language": "python",
   "name": "python3"
  },
  "language_info": {
   "codemirror_mode": {
    "name": "ipython",
    "version": 3
   },
   "file_extension": ".py",
   "mimetype": "text/x-python",
   "name": "python",
   "nbconvert_exporter": "python",
   "pygments_lexer": "ipython3",
   "version": "3.9.12"
  }
 },
 "nbformat": 4,
 "nbformat_minor": 5
}
